{
 "cells": [
  {
   "cell_type": "code",
   "execution_count": null,
   "metadata": {},
   "outputs": [],
   "source": [
    "import os\n",
    "from dotenv import load_dotenv\n",
    "\n",
    "load_dotenv()\n",
    "\n",
    "OPENAI_API_KEY = os.getenv(\"OPENAI_API_KEY\")\n"
   ]
  },
  {
   "cell_type": "code",
   "execution_count": null,
   "metadata": {},
   "outputs": [],
   "source": [
    "from openai import OpenAI\n",
    "\n",
    "# defaults to getting the key using os.environ.get(\"OPENAI_API_KEY\")\n",
    "# if you saved the key under a different environment variable name, you can do something like:\n",
    "client = OpenAI(\n",
    "  api_key=OPENAI_API_KEY,\n",
    ")"
   ]
  },
  {
   "cell_type": "code",
   "execution_count": null,
   "metadata": {},
   "outputs": [],
   "source": [
    "completion = client.chat.completions.create(\n",
    "  model=\"gpt-4-1106-preview\",\n",
    "  messages=[\n",
    "    {\"role\": \"system\", \"content\": \"You are a poetic assistant, skilled in explaining complex programming concepts with creative flair.\"},\n",
    "    {\"role\": \"user\", \"content\": \"Compose a poem that explains the concept of recursion in programming.\"}\n",
    "  ]\n",
    ")\n",
    "\n",
    "print(completion.choices[0].message)"
   ]
  },
  {
   "cell_type": "code",
   "execution_count": null,
   "metadata": {},
   "outputs": [],
   "source": [
    "# Creating the OAI assistant\n",
    "assistant = client.beta.assistants.create(\n",
    "    name=\"Math Tutor\",\n",
    "    instructions=\"You are a personal math tutor. Write and run code to answer math questions.\",\n",
    "    tools=[{\"type\": \"code_interpreter\"}],\n",
    "    model=\"gpt-4-1106-preview\"\n",
    ")"
   ]
  },
  {
   "cell_type": "code",
   "execution_count": null,
   "metadata": {},
   "outputs": [],
   "source": [
    "# Creating a new thread\n",
    "thread = client.beta.threads.create()"
   ]
  },
  {
   "cell_type": "code",
   "execution_count": null,
   "metadata": {},
   "outputs": [],
   "source": [
    "# Creating a message to add to the thread\n",
    "message = client.beta.threads.messages.create(\n",
    "    thread_id=thread.id,\n",
    "    role=\"user\",\n",
    "    content=\"I need to solve the equation `3x + 11 = 14`. Can you help me?\"\n",
    ")\n",
    "\n",
    "thread"
   ]
  },
  {
   "cell_type": "code",
   "execution_count": null,
   "metadata": {},
   "outputs": [],
   "source": [
    "run = client.beta.threads.runs.create(\n",
    "  thread_id=thread.id,\n",
    "  assistant_id=assistant.id,\n",
    "  instructions=\"Please address the user as Jane Doe. The user has a premium account.\"\n",
    ")\n",
    "run"
   ]
  },
  {
   "cell_type": "code",
   "execution_count": null,
   "metadata": {},
   "outputs": [],
   "source": [
    "run = client.beta.threads.runs.retrieve(\n",
    "  thread_id=thread.id,\n",
    "  run_id=run.id\n",
    ")\n",
    "run.status"
   ]
  },
  {
   "cell_type": "code",
   "execution_count": null,
   "metadata": {},
   "outputs": [],
   "source": [
    "messages = client.beta.threads.messages.list(\n",
    "  thread_id=thread.id\n",
    ")\n",
    "\n",
    "messages"
   ]
  },
  {
   "cell_type": "code",
   "execution_count": null,
   "metadata": {},
   "outputs": [],
   "source": [
    "# dir(messages)\n",
    "# messages.__dict__\n",
    "test = str(messages.data[0].content[0].text.value)\n",
    "test"
   ]
  },
  {
   "cell_type": "code",
   "execution_count": null,
   "metadata": {},
   "outputs": [],
   "source": [
    "# Upload a file with an \"assistants\" purpose\n",
    "file = client.files.create(\n",
    "  file=open(\"resume.pdf\", \"rb\"),\n",
    "  purpose='assistants'\n",
    ")"
   ]
  },
  {
   "cell_type": "code",
   "execution_count": null,
   "metadata": {},
   "outputs": [],
   "source": [
    "# Creating the OAI assistant\n",
    "assistant = client.beta.assistants.update(\n",
    "    file_ids=[file.id],\n",
    "    assistant_id=assistant.id\n",
    ")"
   ]
  },
  {
   "cell_type": "code",
   "execution_count": null,
   "metadata": {},
   "outputs": [],
   "source": [
    "# Creating a message to add to the thread\n",
    "message = client.beta.threads.messages.create(\n",
    "    thread_id=thread.id,\n",
    "    role=\"user\",\n",
    "    content=f\"Extract details about this PDF and tell me about it\"\n",
    ")\n"
   ]
  },
  {
   "cell_type": "code",
   "execution_count": null,
   "metadata": {},
   "outputs": [],
   "source": [
    "run = client.beta.threads.runs.create(\n",
    "  thread_id=thread.id,\n",
    "  assistant_id=assistant.id\n",
    ")\n",
    "run"
   ]
  },
  {
   "cell_type": "code",
   "execution_count": null,
   "metadata": {},
   "outputs": [],
   "source": [
    "run = client.beta.threads.runs.retrieve(\n",
    "  thread_id=thread.id,\n",
    "  run_id=run.id\n",
    ")\n",
    "run.status"
   ]
  },
  {
   "cell_type": "code",
   "execution_count": null,
   "metadata": {},
   "outputs": [],
   "source": [
    "messages = client.beta.threads.messages.list(\n",
    "  thread_id=thread.id\n",
    ")\n",
    "\n",
    "test = str(messages.data[0].content[0].text.value)\n",
    "test"
   ]
  },
  {
   "cell_type": "code",
   "execution_count": 93,
   "metadata": {},
   "outputs": [],
   "source": [
    "# Creating a message to add to the thread\n",
    "message = client.beta.threads.messages.create(\n",
    "    thread_id=thread.id,\n",
    "    role=\"user\",\n",
    "    content=f\"respond will all the text in the file\",\n",
    ")\n"
   ]
  },
  {
   "cell_type": "code",
   "execution_count": 94,
   "metadata": {},
   "outputs": [
    {
     "data": {
      "text/plain": [
       "Run(id='run_C1E1i5taCqlicrUPWyTqk22T', assistant_id='asst_jwuumBQ4VN9PAM9MAb39cxNI', cancelled_at=None, completed_at=None, created_at=1699842619, expires_at=1699843219, failed_at=None, file_ids=['file-n55TPpaxKxhNGJEMi9TXCKr0'], instructions='You are a personal math tutor. Write and run code to answer math questions.', last_error=None, metadata={}, model='gpt-4-1106-preview', object='thread.run', required_action=None, started_at=None, status='queued', thread_id='thread_nrLfGZwvzfzcmsAx3IuaakDD', tools=[ToolAssistantToolsCode(type='code_interpreter')])"
      ]
     },
     "execution_count": 94,
     "metadata": {},
     "output_type": "execute_result"
    }
   ],
   "source": [
    "run = client.beta.threads.runs.create(\n",
    "  thread_id=thread.id,\n",
    "  assistant_id=assistant.id\n",
    ")\n",
    "run"
   ]
  },
  {
   "cell_type": "code",
   "execution_count": 97,
   "metadata": {},
   "outputs": [
    {
     "data": {
      "text/plain": [
       "'completed'"
      ]
     },
     "execution_count": 97,
     "metadata": {},
     "output_type": "execute_result"
    }
   ],
   "source": [
    "run = client.beta.threads.runs.retrieve(\n",
    "  thread_id=thread.id,\n",
    "  run_id=run.id\n",
    ")\n",
    "run.status"
   ]
  },
  {
   "cell_type": "code",
   "execution_count": 98,
   "metadata": {},
   "outputs": [
    {
     "data": {
      "text/plain": [
       "\"The content of the entire PDF document is as follows:\\n\\n```\\nYK Sugi \\nyksu@csdojo.io \\nExperience  \\n\\nProgram Manager Intern at Microsoft, Redmond, WA, 5/2015 – 8/2015 \\n         I was responsible for designing and implementing a specific feature within Microsoft Dynamics \\nCRM with developers and other PM's.  My responsibilities included the initial research, planning the \\nproject, designing the product, creating wireframes, and writing and executing on a spec. \\n \\nData Science Intern at Microsoft, San Francisco, CA, 6/2014 – 8/2014 \\n         My responsibilities in the Yammer data analytics team were: \\n-\\nConducted a statistical analysis to deepen our understanding of existing content’s effects \\non user engagements. \\n-\\nResponsible for creating an internal dashboard tool that is now used to view user \\nengagement metrics such as the number of active users and the summary of their \\nactivities on the Yammer website. \\n \\nFounder and President at Data Science Club at UBC, Vancouver, BC, 10/2013 – 5/2014 \\n-\\nResponsible for acquiring more than 120 members \\n-\\nOrganized meet-ups to exchange our ideas on data science \\n-\\nFormed a team of several students to work on a machine learning competition on Kaggle \\nSoftware Development Intern at Moneytree, Tokyo, 5/2013 – 8/2013\\n\\n   At this iPhone application company, I was responsible for creating JavaScript scripts that screen-\\nscrape transaction information from our users’ bank accounts and credit card accounts.  I also created \\nRuby scripts that solved miscellaneous business problems, including one machine learning \\nclassification problem. \\nEducation  \\n\\nUniversity of British Columbia, Vancouver, BC \\n \\n \\nBS Candidate/Statistics Major, December 2015 \\n \\n \\nGPA 87.6/100 \\n \\nSuffolk University, Boston, MA \\n \\n \\nBS Candidate/Physics and Computer Science Majors (transferred out) \\n \\nGPA 3.964, Undergraduate Honors Program \\nTechnical Skills  \\n\\nExperience in Product Management, Analytics/Statistics, and Software Engineering. \\n \\nTechnical Tools: \\n-\\nWireframing: Balsamiq, Microsoft PowerPoint \\n-\\nDesigning: Adobe InDesign, Photoshop, Illustrator \\n-\\nStatistical Analysis: R \\n-\\nMachine Learning: Python with NumPy and Pandas, Ruby, Spark (prior experience) \\n-\\nProgramming Technologies: SQL, MATLAB, Ruby on Rails, Java \\n-\\nProgramming Technologies, front end: JavaScript, HTML/CSS, LaTeX \\n-\\nVersion Control: Git, GitHub, Bitbucket \\nOther Skills  \\n \\n \\nLanguages: Fluent in English and Japanese \\n \\n \\nPublic Speaking: Experience and ability to speak with passion and confidence in public \\nspeaking and stand-up comedy \\n  \\nAwards  \\n\\nTELUS / IEEE Student Innovation Challenge, September 2015 \\n \\n \\nOur team won a third place at the pitch contest where we presented an idea for a device that \\nhelps the blind.  Our idea was a device that converts 3-dimensional special information into sound so \\nthat blind people can “see” the environment by hearing.  We were awarded a $3000 grant to develop a \\nprototype.  \\nProjects \\nFireflic, Winter 2014 \\n \\nAs a follow-up project of YamBomb! (see below), I designed and developed a mobile gaming \\napp to pass around a “fire” amongst friends that “explodes” in 24 hours.  A user can attach an article \\nor picture to the fire, so interesting content is passed to many people.  Developed with Javascript. \\nYamBomb! , August 2014 \\n \\nA colleague at Microsoft and I created a gaming app with which one would send a “bomb” that \\n“explodes” in 24 hours unless they pass it to somebody else.  It started with a few users and \\norganically grew to more than 70 users within a week of its launch.  We developed the application \\nwith Ruby on Rails and Yammer API. \\nMarch Madness Prediction,  March 2014 \\n \\nI made a least square model for predicting winners of March Madness, the national college \\nbasketball tournament in the United States.  I built this model with different types of regularizations \\n(L1 and L2), utilizing Python libraries such as NumPy and matplotlib.  I ranked at the 32nd place out \\nof 248 teams at the Kaggle competition. \\n```\\n\\nThis text appears to cover the complete content of the PDF including the individual's experience, education, technical skills, languages, public speaking and awards, as well as descriptions of various projects. If you need the text in a different format or have any other requests, please let me know.\""
      ]
     },
     "execution_count": 98,
     "metadata": {},
     "output_type": "execute_result"
    }
   ],
   "source": [
    "messages = client.beta.threads.messages.list(\n",
    "  thread_id=thread.id\n",
    ")\n",
    "\n",
    "test = str(messages.data[0].content[0].text.value)\n",
    "test"
   ]
  },
  {
   "cell_type": "code",
   "execution_count": 100,
   "metadata": {},
   "outputs": [
    {
     "name": "stdout",
     "output_type": "stream",
     "text": [
      "{\n",
      "  \"education_history\": [\n",
      "    {\n",
      "      \"institution\": \"University of British Columbia\",\n",
      "      \"location\": \"Vancouver, BC\",\n",
      "      \"degree\": \"BS Candidate/Statistics Major\",\n",
      "      \"graduation_date\": \"December 2015\",\n",
      "      \"GPA\": \"87.6/100\"\n",
      "    },\n",
      "    {\n",
      "      \"institution\": \"Suffolk University\",\n",
      "      \"location\": \"Boston, MA\",\n",
      "      \"degree\": \"BS Candidate/Physics and Computer Science Majors (transferred out)\",\n",
      "      \"GPA\": \"3.964\",\n",
      "      \"honors_program\": \"Undergraduate Honors Program\"\n",
      "    }\n",
      "  ]\n",
      "}\n"
     ]
    }
   ],
   "source": [
    "response = client.chat.completions.create(\n",
    "  model=\"gpt-4-1106-preview\",\n",
    "  response_format={ \"type\": \"json_object\" },\n",
    "  messages=[\n",
    "    {\"role\": \"system\", \"content\": \"You are a helpful assistant designed to output JSON. Extract all education history.\"},\n",
    "    {\"role\": \"user\", \"content\": test}\n",
    "  ]\n",
    ")\n",
    "print(response.choices[0].message.content)"
   ]
  }
 ],
 "metadata": {
  "kernelspec": {
   "display_name": "resume",
   "language": "python",
   "name": "python3"
  },
  "language_info": {
   "codemirror_mode": {
    "name": "ipython",
    "version": 3
   },
   "file_extension": ".py",
   "mimetype": "text/x-python",
   "name": "python",
   "nbconvert_exporter": "python",
   "pygments_lexer": "ipython3",
   "version": "3.11.5"
  }
 },
 "nbformat": 4,
 "nbformat_minor": 2
}
